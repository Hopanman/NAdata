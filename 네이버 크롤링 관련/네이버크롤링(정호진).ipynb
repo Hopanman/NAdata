{
 "cells": [
  {
   "cell_type": "code",
   "execution_count": 1,
   "metadata": {
    "collapsed": true
   },
   "outputs": [],
   "source": [
    "import urllib.request\n",
    "import json\n",
    "import datetime\n",
    "import pandas as pd\n",
    "import time\n",
    "from urllib.request import urlopen\n",
    "from bs4 import BeautifulSoup\n",
    "import re"
   ]
  },
  {
   "cell_type": "code",
   "execution_count": 16,
   "metadata": {
    "collapsed": true
   },
   "outputs": [],
   "source": [
    "class NaverAPI:\n",
    "    def get_request_url(self, url):\n",
    "        self.url = url\n",
    "        client_id='RqN3GwycVrMQ6MSNNoa6'\n",
    "        client_secret='a7R6krZYBK'        \n",
    "        req=urllib.request.Request(self.url)\n",
    "        req.add_header(\"X-Naver-Client-Id\", client_id)\n",
    "        req.add_header(\"X-Naver-Client-Secret\",client_secret)       \n",
    "        try:\n",
    "            response=urllib.request.urlopen(req)\n",
    "            print( '[%s] Url Request Success' % (datetime.datetime.now()) )\n",
    "            return response.read().decode('utf-8')      \n",
    "        except Exception as err:\n",
    "            print(err)\n",
    "            print( '[%s] Url Request Fail [url : %s]' % (datetime.datetime.now(), self.url) )\n",
    "            return None\n",
    "\n",
    "\n",
    "\n",
    "    def getNaverMovieResult(self, movieNm, display):\n",
    "        \n",
    "        self.movieNm = movieNm\n",
    "        self.display = display\n",
    "        url='https://openapi.naver.com/v1/search/movie.json'\n",
    "        url+='?query=%s'%(urllib.parse.quote(self.movieNm))\n",
    "        url+='&display=%s'%(self.display)\n",
    "        retData = self.get_request_url(url)\n",
    "        \n",
    "        if(retData == None):\n",
    "            return None\n",
    "\n",
    "        else:\n",
    "            return json.loads(retData)"
   ]
  },
  {
   "cell_type": "code",
   "execution_count": 17,
   "metadata": {
    "collapsed": true
   },
   "outputs": [],
   "source": [
    "class RunClassNaverAPI:\n",
    "\n",
    "    def getKoficData(self, filename):\n",
    "\n",
    "        self.filename = filename        \n",
    "\n",
    "        koficData = pd.read_csv(self.filename)\n",
    "        koficData.fillna('NaN', inplace=True)       \n",
    "        koficNmDr = koficData[['영화명', '감독']]\n",
    "        movieList = self.getMovieList(koficNmDr)\n",
    "\n",
    "        return movieList\n",
    "    \n",
    "\n",
    "    def getMovieList(self, dataframe):\n",
    "\n",
    "        self.dataframe = dataframe\n",
    "        \n",
    "        naver = NaverAPI()\n",
    "        length = len(self.dataframe)\n",
    "        movieList = []\n",
    "\n",
    "        \n",
    "        for idx in range(9):\n",
    "            print('%d번째 영화 크롤링'%(idx+1))\n",
    "            koficNm = self.dataframe.iloc[idx, 0]\n",
    "            koficDr = self.dataframe.iloc[idx, 1]\n",
    "#             koficDr = koficDr.split(',') \n",
    "            \n",
    "            display_count=100              \n",
    "            naverResult=naver.getNaverMovieResult(koficNm, display_count)\n",
    "            movieList.append([koficNm, koficDr, naverResult])\n",
    "            time.sleep(0.5)\n",
    "\n",
    "\n",
    "        return movieList"
   ]
  },
  {
   "cell_type": "code",
   "execution_count": 18,
   "metadata": {
    "collapsed": true
   },
   "outputs": [],
   "source": [
    "class GetBookExpt:\n",
    "\n",
    "    def getOribook_expt(self, filename):\n",
    "\n",
    "        self.filename = filename\n",
    "        getMovieList = RunClassNaverAPI()        \n",
    "        movieList = getMovieList.getKoficData(self.filename)\n",
    "\n",
    "        \n",
    "        oribook_expt = []    \n",
    "        for oneList in movieList:\n",
    "\n",
    "            koficNm = oneList[0]\n",
    "            koficDr = oneList[1]\n",
    "            naverResult = oneList[2]\n",
    "\n",
    "            if naverResult != None:\n",
    "                naverDictList = naverResult['items']\n",
    "                for naverDict in naverDictList:\n",
    "\n",
    "                    movieNm = naverDict['title'].replace('<b>','').replace('</b>','')\n",
    "                    movieEnNm = naverDict['subtitle']\n",
    "                    openYr = naverDict['pubDate']\n",
    "                    movieDr = naverDict['director'].replace('<b>','').replace('</b>','')\n",
    "                    movieDr = movieDr.rstrip('|').replace('|',',')\n",
    "                    naverUrl = naverDict['link']                                             \n",
    "                    response = urlopen(naverUrl)                                       \n",
    "                    soup = BeautifulSoup(response, 'html.parser')\n",
    "                    myLi = soup.find('a', attrs={'title':'원작 도서'})\n",
    "\n",
    "                    if myLi != None:\n",
    "                        ori_book = 1\n",
    "\n",
    "                    else:\n",
    "                        ori_book = 0\n",
    "\n",
    "#                     print('원작도서 : %d' % (ori_book))\n",
    "                    naver_ex_pt = soup.select_one('span#interest_cnt_basic')\n",
    "                    if naver_ex_pt != None:\n",
    "\n",
    "                        naver_ex_pt = naver_ex_pt.get_text()\n",
    "                        naver_ex_pt = re.sub('[가-힣]+','', naver_ex_pt)\n",
    "                        naver_ex_pt = naver_ex_pt.replace(',', '')\n",
    "                        naver_ex_pt = int(naver_ex_pt)\n",
    "#                         print('기대지수 : %s' % (naver_ex_pt))\n",
    "\n",
    "\n",
    "     \n",
    "                    else :\n",
    "                        naver_ex_pt = ''\n",
    "\n",
    "                    oribook_expt.append([movieNm, movieEnNm, openYr, movieDr, ori_book, naver_ex_pt])\n",
    "#                   print('-'*50)  \n",
    "                                               \n",
    "#             print(koficNm)\n",
    "#             print(koficDr)\n",
    "#             print('#'*50)\n",
    "\n",
    "            \n",
    "#         print(oribook_expt)\n",
    "\n",
    "        return oribook_expt"
   ]
  },
  {
   "cell_type": "code",
   "execution_count": 19,
   "metadata": {
    "collapsed": true
   },
   "outputs": [],
   "source": [
    "getNaverData = GetBookExpt()"
   ]
  },
  {
   "cell_type": "code",
   "execution_count": 20,
   "metadata": {},
   "outputs": [
    {
     "name": "stdout",
     "output_type": "stream",
     "text": [
      "1번째 영화 크롤링\n",
      "[2019-06-21 18:03:41.623740] Url Request Success\n",
      "2번째 영화 크롤링\n",
      "[2019-06-21 18:03:42.227640] Url Request Success\n",
      "3번째 영화 크롤링\n",
      "[2019-06-21 18:03:42.861824] Url Request Success\n",
      "4번째 영화 크롤링\n",
      "[2019-06-21 18:03:43.431255] Url Request Success\n",
      "5번째 영화 크롤링\n",
      "[2019-06-21 18:03:43.997242] Url Request Success\n",
      "6번째 영화 크롤링\n",
      "[2019-06-21 18:03:44.636845] Url Request Success\n",
      "7번째 영화 크롤링\n",
      "[2019-06-21 18:03:45.219146] Url Request Success\n",
      "8번째 영화 크롤링\n",
      "[2019-06-21 18:03:45.884414] Url Request Success\n",
      "9번째 영화 크롤링\n",
      "[2019-06-21 18:03:46.469574] Url Request Success\n"
     ]
    }
   ],
   "source": [
    "naverData = getNaverData.getOribook_expt('NAdata/네이버 크롤링 관련/KOFIC_data(2010-2019).csv')"
   ]
  },
  {
   "cell_type": "code",
   "execution_count": 23,
   "metadata": {},
   "outputs": [],
   "source": [
    "myframe = pd.DataFrame(naverData, columns=['영화명','영문명','제작년도','감독명','원작도서유무','네이버기대지수'])"
   ]
  },
  {
   "cell_type": "code",
   "execution_count": 41,
   "metadata": {},
   "outputs": [],
   "source": [
    "myframe.to_csv('네이버크롤링샘플.csv', index=False, encoding='cp949')"
   ]
  }
 ],
 "metadata": {
  "anaconda-cloud": {},
  "kernelspec": {
   "display_name": "Python [conda root]",
   "language": "python",
   "name": "conda-root-py"
  },
  "language_info": {
   "codemirror_mode": {
    "name": "ipython",
    "version": 3
   },
   "file_extension": ".py",
   "mimetype": "text/x-python",
   "name": "python",
   "nbconvert_exporter": "python",
   "pygments_lexer": "ipython3",
   "version": "3.5.2"
  }
 },
 "nbformat": 4,
 "nbformat_minor": 2
}
